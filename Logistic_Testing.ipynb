{
 "metadata": {
  "name": "",
  "signature": "sha256:e9d54244abd891ca48b9eb2f824c9ca3fb0dc2b255c8ed75ad56fdf8807452bd"
 },
 "nbformat": 3,
 "nbformat_minor": 0,
 "worksheets": [
  {
   "cells": [
    {
     "cell_type": "code",
     "collapsed": false,
     "input": [
      "import sklearn as sk\n",
      "import sklearn.linear_model as lm\n",
      "\n",
      "import random\n",
      "\n",
      "import numpy as np\n",
      "import matplotlib.pyplot as plt\n",
      "\n",
      "%matplotlib inline"
     ],
     "language": "python",
     "metadata": {},
     "outputs": [],
     "prompt_number": 20
    },
    {
     "cell_type": "code",
     "collapsed": false,
     "input": [
      "training_data_temp = [[5.000000,8.000000],\n",
      "[5.000000,8.000000],\n",
      "[5.000000,1.000000],\n",
      "[7.000000,3.000000],\n",
      "[8.000000,3.000000],\n",
      "[11.000000,10.000000],\n",
      "[11.000000,18.000000],\n",
      "[14.000000,15.000000],\n",
      "[12.000000,18.000000],\n",
      "[13.000000,18.000000]\n",
      "]\n",
      "\n",
      "r1_pos = []\n",
      "r2_pos = []\n",
      "\n",
      "r1_neg = []\n",
      "r2_neg = []\n",
      "\n",
      "for i in range(0, 5):\n",
      "    r1_pos.append(training_data_temp[i][0])\n",
      "    r2_pos.append(training_data_temp[i][1])\n",
      "\n",
      "for i in range(5, 10):\n",
      "    r1_neg.append(training_data_temp[i][0])\n",
      "    r2_neg.append(training_data_temp[i][1])\n",
      "    \n",
      "\n",
      "training_labels_temp = []\n",
      "\n",
      "for i in range(0,5):\n",
      "    training_labels_temp.append(1)\n",
      "    \n",
      "for i in range(0,5):\n",
      "    training_labels_temp.append(0)\n",
      "    \n",
      "for i in range(0, 10):\n",
      "    training_data_temp[i].insert(0, 1)\n",
      "    \n",
      "training_data = np.array(training_data_temp)\n",
      "training_labels = np.array( training_labels_temp)\n",
      "    \n",
      "\n",
      "\n",
      "    \n",
      "plt.scatter( r1_pos, r2_pos, color=\"purple\")\n",
      "plt.scatter( r1_neg, r2_neg, color=\"blue\")\n",
      "\n",
      "\n"
     ],
     "language": "python",
     "metadata": {},
     "outputs": [
      {
       "metadata": {},
       "output_type": "pyout",
       "prompt_number": 28,
       "text": [
        "<matplotlib.collections.PathCollection at 0x7fd6de428390>"
       ]
      },
      {
       "metadata": {},
       "output_type": "display_data",
       "png": "[encoded data removed]",
       "text": [
        "<matplotlib.figure.Figure at 0x7fd6de451890>"
       ]
      }
     ],
     "prompt_number": 28
    },
    {
     "cell_type": "code",
     "collapsed": false,
     "input": [
      "\n",
      "    \n",
      "# lr = lm.LogisticRegression(C=100000000)\n",
      "# lr.fit(training_data, training_labels)\n",
      "\n",
      "# print \"Parameters\", lr.coef_\n",
      "# print \"Bias\", lr.intercept_\n",
      "\n",
      "# #lr.predict(training_data)\n",
      "\n"
     ],
     "language": "python",
     "metadata": {},
     "outputs": [],
     "prompt_number": 3
    },
    {
     "cell_type": "code",
     "collapsed": false,
     "input": [
      "def sigmoid(x):\n",
      "    return 1.0 / (1.0 + np.e**(-x))\n",
      "\n",
      "def logisticCostFunction(inputs, labels, theta):\n",
      "    \n",
      "    final_val = 0.0\n",
      "    for i in range(0 , len(inputs)):\n",
      "    \n",
      "        mult = np.dot( theta.T, inputs[i].T )\n",
      "        h_x = sigmoid( mult.item() )\n",
      "    \n",
      "        final_val += labels[i] * np.log( h_x ) + (1 - labels[i]) * np.log( 1 - h_x )\n",
      "    \n",
      "    return -final_val / len(inputs)\n",
      "    \n",
      "def logisticGradientFunction(inputs, labels, theta):\n",
      "    \n",
      "    gradient = np.zeros((3,1))\n",
      "    \n",
      "    \n",
      "    for j in range(0, len(theta)):\n",
      "    \n",
      "        final_val = 0.0\n",
      "        for i in range(0 , len(inputs)):\n",
      "            \n",
      "            x = inputs[i].T\n",
      "        \n",
      "            mult = np.dot( theta.T, x )\n",
      "            h_x = sigmoid( mult.item() )\n",
      "        \n",
      "            final_val += ( h_x - labels[i] ) * x[j]\n",
      "            \n",
      "        gradient[j][0] = final_val\n",
      "\n",
      "    return gradient / len(inputs)\n",
      "\n"
     ],
     "language": "python",
     "metadata": {},
     "outputs": [],
     "prompt_number": 30
    },
    {
     "cell_type": "code",
     "collapsed": false,
     "input": [
      "alpha = .5\n",
      "# theta = np.matrix([[.1, .1, .1, .1]]).T\n",
      "theta = np.matrix([[.1, .1, .1]]).T\n",
      "\n",
      "iterations = 10000\n",
      "\n",
      "\n",
      "print \"Initial Cost\", logisticCostFunction(training_data, training_labels, theta)\n",
      "\n",
      "for i in range(0, iterations):\n",
      "\n",
      "    cost = logisticCostFunction(training_data, training_labels, theta)\n",
      "    gradient = logisticGradientFunction(training_data, training_labels, theta)\n",
      "    theta = theta - alpha * gradient\n",
      "    \n",
      "#     print \"Cost: \", cost\n",
      "#     print \"Gradient \\n\", gradient\n",
      "#     print \"Theta \\n\", theta\n",
      "#     print \"\"\n",
      "    \n",
      "print \"Gradient: \", logisticGradientFunction(training_data, training_labels, theta)\n",
      "print \"COST: \", logisticCostFunction(training_data, training_labels, theta)\n",
      "\n",
      "print \"Theta\\n\", theta\n",
      "\n",
      "    "
     ],
     "language": "python",
     "metadata": {},
     "outputs": [
      {
       "output_type": "stream",
       "stream": "stdout",
       "text": [
        "Initial Cost 1.61809139852\n",
        "Gradient: "
       ]
      },
      {
       "output_type": "stream",
       "stream": "stdout",
       "text": [
        " [[ -5.95310573e-04]\n",
        " [  4.55469649e-05]\n",
        " [  2.56545544e-05]]\n",
        "COST:  0.00220169819657\n",
        "Theta\n",
        "[[ 19.39157709]\n",
        " [ -1.45974715]\n",
        " [ -0.81565574]]\n"
       ]
      }
     ],
     "prompt_number": 43
    },
    {
     "cell_type": "code",
     "collapsed": false,
     "input": [
      "val = np.arange(0, 20, .1)\n",
      "\n",
      "x1_pos = []\n",
      "x2_pos = []\n",
      "\n",
      "x1_neg = []\n",
      "x2_neg = []\n",
      "    \n",
      "for x1 in val:\n",
      "    for x2 in val:\n",
      "        \n",
      "        mat = np.matrix([1, x1, x2]).T\n",
      "        \n",
      "        h_x = sigmoid( np.dot(theta.T, mat).item() )\n",
      "        \n",
      "        if h_x > .5:\n",
      "            x1_pos.append(x1)\n",
      "            x2_pos.append(x2)\n",
      "        else:\n",
      "            x1_neg.append(x1)\n",
      "            x2_neg.append(x2)\n",
      "            \n",
      "            \n",
      "plt.scatter( x1_pos, x2_pos, color=\"green\" )\n",
      "plt.scatter( x1_neg, x2_neg, color=\"red\")\n",
      "\n",
      "plt.xlim(0, 16)\n",
      "plt.ylim(0, 20)\n",
      "    \n",
      "plt.scatter( r1_pos, r2_pos, color=\"yellow\")\n",
      "plt.scatter( r1_neg, r2_neg, color=\"blue\")\n"
     ],
     "language": "python",
     "metadata": {},
     "outputs": [
      {
       "metadata": {},
       "output_type": "pyout",
       "prompt_number": 44,
       "text": [
        "<matplotlib.collections.PathCollection at 0x7fd6ddeb0950>"
       ]
      },
      {
       "metadata": {},
       "output_type": "display_data",
       "png": "[encoded data removed]",
       "text": [
        "<matplotlib.figure.Figure at 0x7fd6ddf08110>"
       ]
      }
     ],
     "prompt_number": 44
    },
    {
     "cell_type": "code",
     "collapsed": false,
     "input": [],
     "language": "python",
     "metadata": {},
     "outputs": [],
     "prompt_number": 5
    }
   ],
   "metadata": {}
  }
 ]
}