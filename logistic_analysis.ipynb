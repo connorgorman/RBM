{
 "metadata": {
  "name": "",
  "signature": "sha256:667ea3ec1adc608f0f9b1b6ab4d492ce6eb4a9357f29cf6219bf5deeea02d436"
 },
 "nbformat": 3,
 "nbformat_minor": 0,
 "worksheets": [
  {
   "cells": [
    {
     "cell_type": "code",
     "collapsed": false,
     "input": [
      "\n",
      "import numpy as np\n",
      "import numpy.random\n",
      "import matplotlib.pyplot as plt\n",
      "import pandas\n",
      "\n",
      "%matplotlib inline"
     ],
     "language": "python",
     "metadata": {},
     "outputs": [],
     "prompt_number": 1
    },
    {
     "cell_type": "code",
     "collapsed": false,
     "input": [
      "\n",
      "def sigmoid(x):\n",
      "    return 1.0/(1.0+np.e**(-x))\n",
      "\n",
      "x1 = [7.82905, -7.52884,  9.08343, -7.92326,  5.12667, -5.30638,  9.88395, -9.36945,  6.34494, -9.40482]\n",
      "x2 = [ 8.05465, -5.89823,  5.91736, -7.11078,   6.5813,  -5.4183,  9.89029, -5.26538 , 5.46169, -7.81287]\n",
      "\n",
      "y_labels = [1,0,1,0,1,0,1,0,1,0,]\n",
      "\n",
      "theta = np.matrix( [[0.016162, 0.441911, 0.585325 ]]).T\n",
      "\n",
      "x1_good = []\n",
      "x2_good = []\n",
      "\n",
      "x1_bad = []\n",
      "x2_bad = []\n",
      "\n",
      "for i in range(0, 10):\n",
      "    \n",
      "    if y_labels[i] == 0:\n",
      "        x1_bad.append(x1[i])\n",
      "        x2_bad.append(x2[i])\n",
      "    else:\n",
      "        x1_good.append(x1[i])\n",
      "        x2_good.append(x2[i])\n",
      "    \n",
      "\n",
      "\n",
      "x1_rng = np.arange(-10, 10, .1)\n",
      "x2_rng = np.arange(-10, 10, .1)\n",
      "\n",
      "\n",
      "x1_g = []\n",
      "x2_g = []\n",
      "\n",
      "x1_b = []\n",
      "x2_b = []\n",
      "\n",
      "for x1_val in x1_rng:\n",
      "    for x2_val in x2_rng:\n",
      "        mat = np.matrix([[1.0, x1_val, x2_val]]).T\n",
      "                         \n",
      "        h_x = theta.T.dot(mat).item()\n",
      "        \n",
      "        \n",
      "        #print h_x\n",
      "        \n",
      "        if( sigmoid( h_x ) > .5 ):\n",
      "            x1_g.append(x1_val)\n",
      "            x2_g.append(x2_val)\n",
      "        else:\n",
      "            x1_b.append(x1_val)\n",
      "            x2_b.append(x2_val)\n",
      "            \n",
      "plt.scatter(x1_g, x2_g, color='green')\n",
      "plt.scatter(x1_b, x2_b, color='pink')        \n",
      "\n",
      "plt.scatter(x1_good, x2_good, color='blue')\n",
      "plt.scatter(x1_bad, x2_bad, color='red')\n",
      "\n",
      "plt.show()\n",
      "        \n",
      "\n",
      "\n"
     ],
     "language": "python",
     "metadata": {},
     "outputs": [
      {
       "metadata": {},
       "output_type": "display_data",
       "png": "[encoded data removed]",
       "text": [
        "<matplotlib.figure.Figure at 0x7f0b9f69ed50>"
       ]
      }
     ],
     "prompt_number": 17
    },
    {
     "cell_type": "code",
     "collapsed": false,
     "input": [],
     "language": "python",
     "metadata": {},
     "outputs": []
    }
   ],
   "metadata": {}
  }
 ]
}